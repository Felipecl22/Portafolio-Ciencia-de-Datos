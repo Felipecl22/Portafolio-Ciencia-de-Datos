{
  "nbformat": 4,
  "nbformat_minor": 0,
  "metadata": {
    "colab": {
      "provenance": [],
      "authorship_tag": "ABX9TyMGKCeaW0myqg86ASnoTNsG",
      "include_colab_link": true
    },
    "kernelspec": {
      "name": "python3",
      "display_name": "Python 3"
    },
    "language_info": {
      "name": "python"
    }
  },
  "cells": [
    {
      "cell_type": "markdown",
      "metadata": {
        "id": "view-in-github",
        "colab_type": "text"
      },
      "source": [
        "<a href=\"https://colab.research.google.com/github/Felipecl22/Portafolio-Ciencia-de-Datos/blob/main/An%C3%A1lisis_de_sobreviviente_Titanic_usando_Machine_Learning.ipynb\" target=\"_parent\"><img src=\"https://colab.research.google.com/assets/colab-badge.svg\" alt=\"Open In Colab\"/></a>"
      ]
    },
    {
      "cell_type": "markdown",
      "source": [
        "# Librerías necesarias"
      ],
      "metadata": {
        "id": "YNcCoWhcYw6T"
      }
    },
    {
      "cell_type": "code",
      "execution_count": 186,
      "metadata": {
        "id": "z7nWOvk1WIhh"
      },
      "outputs": [],
      "source": [
        "import pandas as pd\n",
        "import numpy as np\n",
        "from sklearn.model_selection import train_test_split\n",
        "from sklearn.preprocessing import StandardScaler\n",
        "from sklearn.linear_model import LogisticRegression\n",
        "from sklearn.naive_bayes import GaussianNB\n",
        "from sklearn.metrics import accuracy_score, confusion_matrix, classification_report\n",
        "import seaborn as sns\n",
        "import matplotlib.pyplot as plt\n",
        "from google.colab import drive"
      ]
    },
    {
      "cell_type": "markdown",
      "source": [
        "# Montar drive de Google"
      ],
      "metadata": {
        "id": "uSNvSFrVZEsz"
      }
    },
    {
      "cell_type": "code",
      "source": [
        "# Montando el drive para acceder a los archivos, ya que tengo los csv en mi Drive, esto no es necesario si ustedes tienen el archivo en su escritorio.\n",
        "drive.mount('/content/drive')"
      ],
      "metadata": {
        "colab": {
          "base_uri": "https://localhost:8080/"
        },
        "id": "fp0Ra-szZIX6",
        "outputId": "4efcb4c5-98aa-48b1-dc91-5751982df4db"
      },
      "execution_count": 149,
      "outputs": [
        {
          "output_type": "stream",
          "name": "stdout",
          "text": [
            "Drive already mounted at /content/drive; to attempt to forcibly remount, call drive.mount(\"/content/drive\", force_remount=True).\n"
          ]
        }
      ]
    },
    {
      "cell_type": "markdown",
      "source": [
        "# Carga de datos y análisis preliminar"
      ],
      "metadata": {
        "id": "uh5fyKE6ZU-r"
      }
    },
    {
      "cell_type": "code",
      "source": [
        "# Cargar los datos\n",
        "train_csv = '/content/drive/My Drive/Colab Notebooks/Prueba/train.csv'\n",
        "test_csv = '/content/drive/My Drive/Colab Notebooks/Prueba/test.csv'\n",
        "\n",
        "df_train = pd.read_csv(train_csv)\n",
        "df_test = pd.read_csv(test_csv)\n",
        "\n",
        "# Revisar datos\n",
        "print(df_train.info())\n",
        "print(\"\\n\")\n",
        "print(df_test.info())"
      ],
      "metadata": {
        "colab": {
          "base_uri": "https://localhost:8080/"
        },
        "id": "F7yb7FRbYwT0",
        "outputId": "c1705fee-d4e1-4235-f4f0-7446d82d3a06"
      },
      "execution_count": 150,
      "outputs": [
        {
          "output_type": "stream",
          "name": "stdout",
          "text": [
            "<class 'pandas.core.frame.DataFrame'>\n",
            "RangeIndex: 891 entries, 0 to 890\n",
            "Data columns (total 12 columns):\n",
            " #   Column       Non-Null Count  Dtype  \n",
            "---  ------       --------------  -----  \n",
            " 0   PassengerId  891 non-null    int64  \n",
            " 1   Survived     891 non-null    int64  \n",
            " 2   Pclass       891 non-null    int64  \n",
            " 3   Name         891 non-null    object \n",
            " 4   Sex          891 non-null    object \n",
            " 5   Age          714 non-null    float64\n",
            " 6   SibSp        891 non-null    int64  \n",
            " 7   Parch        891 non-null    int64  \n",
            " 8   Ticket       891 non-null    object \n",
            " 9   Fare         891 non-null    float64\n",
            " 10  Cabin        204 non-null    object \n",
            " 11  Embarked     889 non-null    object \n",
            "dtypes: float64(2), int64(5), object(5)\n",
            "memory usage: 83.7+ KB\n",
            "None\n",
            "\n",
            "\n",
            "<class 'pandas.core.frame.DataFrame'>\n",
            "RangeIndex: 418 entries, 0 to 417\n",
            "Data columns (total 11 columns):\n",
            " #   Column       Non-Null Count  Dtype  \n",
            "---  ------       --------------  -----  \n",
            " 0   PassengerId  418 non-null    int64  \n",
            " 1   Pclass       418 non-null    int64  \n",
            " 2   Name         418 non-null    object \n",
            " 3   Sex          418 non-null    object \n",
            " 4   Age          332 non-null    float64\n",
            " 5   SibSp        418 non-null    int64  \n",
            " 6   Parch        418 non-null    int64  \n",
            " 7   Ticket       418 non-null    object \n",
            " 8   Fare         417 non-null    float64\n",
            " 9   Cabin        91 non-null     object \n",
            " 10  Embarked     418 non-null    object \n",
            "dtypes: float64(2), int64(4), object(5)\n",
            "memory usage: 36.0+ KB\n",
            "None\n"
          ]
        }
      ]
    },
    {
      "cell_type": "markdown",
      "source": [
        "*   Las dataframe contienen tanto variables numéricas como categóricas.\n",
        "*   Las dataframe contienen tipos de datos float64(2), int64(4), object(5)"
      ],
      "metadata": {
        "id": "YgryjLNIdZfN"
      }
    },
    {
      "cell_type": "code",
      "source": [
        "print(f\"Columnas de df_train: {df_train.columns}\")\n",
        "print(f\"Nº de columnas en df_train: {len(df_train.columns)} columnas.\")\n",
        "print(\"\\n\")\n",
        "print(f\"Columnas de df_test: {df_test.columns}\")\n",
        "print(f\"Nº de columnas en df_test: {len(df_test.columns)} columnas.\")"
      ],
      "metadata": {
        "colab": {
          "base_uri": "https://localhost:8080/"
        },
        "id": "yMbHwgjkaz3F",
        "outputId": "ebd0184d-8fa2-4217-8b42-339c2f8959ab"
      },
      "execution_count": 151,
      "outputs": [
        {
          "output_type": "stream",
          "name": "stdout",
          "text": [
            "Columnas de df_train: Index(['PassengerId', 'Survived', 'Pclass', 'Name', 'Sex', 'Age', 'SibSp',\n",
            "       'Parch', 'Ticket', 'Fare', 'Cabin', 'Embarked'],\n",
            "      dtype='object')\n",
            "Nº de columnas en df_train: 12 columnas.\n",
            "\n",
            "\n",
            "Columnas de df_test: Index(['PassengerId', 'Pclass', 'Name', 'Sex', 'Age', 'SibSp', 'Parch',\n",
            "       'Ticket', 'Fare', 'Cabin', 'Embarked'],\n",
            "      dtype='object')\n",
            "Nº de columnas en df_test: 11 columnas.\n"
          ]
        }
      ]
    },
    {
      "cell_type": "markdown",
      "source": [
        "*   La data de train contiene 891 entradas con 12 columnas.\n",
        "*   La data de test contiene 418 entradas con 11 columnas.\n",
        "\n",
        "La data test no contiene la columnas Survived."
      ],
      "metadata": {
        "id": "LpKXYPh6adSl"
      }
    },
    {
      "cell_type": "code",
      "source": [
        "print(df_train.head(2))\n",
        "print(\"\\n\")\n",
        "print(df_test.head(2))"
      ],
      "metadata": {
        "colab": {
          "base_uri": "https://localhost:8080/"
        },
        "id": "8tqGjkcFsBV6",
        "outputId": "d1759999-caf0-460c-ef5f-6fd8bf6379ec"
      },
      "execution_count": 152,
      "outputs": [
        {
          "output_type": "stream",
          "name": "stdout",
          "text": [
            "   PassengerId  Survived  Pclass  \\\n",
            "0            1         0       3   \n",
            "1            2         1       1   \n",
            "\n",
            "                                                Name     Sex   Age  SibSp  \\\n",
            "0                            Braund, Mr. Owen Harris    male  22.0      1   \n",
            "1  Cumings, Mrs. John Bradley (Florence Briggs Th...  female  38.0      1   \n",
            "\n",
            "   Parch     Ticket     Fare Cabin Embarked  \n",
            "0      0  A/5 21171   7.2500   NaN        S  \n",
            "1      0   PC 17599  71.2833   C85        C  \n",
            "\n",
            "\n",
            "   PassengerId  Pclass                              Name     Sex   Age  SibSp  \\\n",
            "0          892       3                  Kelly, Mr. James    male  34.5      0   \n",
            "1          893       3  Wilkes, Mrs. James (Ellen Needs)  female  47.0      1   \n",
            "\n",
            "   Parch  Ticket    Fare Cabin Embarked  \n",
            "0      0  330911  7.8292   NaN        Q  \n",
            "1      0  363272  7.0000   NaN        S  \n"
          ]
        }
      ]
    },
    {
      "cell_type": "markdown",
      "source": [
        "# Inspección de datos nulos"
      ],
      "metadata": {
        "id": "0bgNZtaFd8hs"
      }
    },
    {
      "cell_type": "code",
      "source": [
        "# Verificar valores nulos\n",
        "print(f\"Valores nulos en df_train son: \\n{df_train.isnull().sum()}\")\n",
        "print(\"\\n\")\n",
        "print(f\"Valores nulos en df_test son: \\n{df_test.isnull().sum()}\")"
      ],
      "metadata": {
        "colab": {
          "base_uri": "https://localhost:8080/"
        },
        "id": "GalDc06ReE9S",
        "outputId": "e56c7b73-196d-4553-d97f-3dbb8c6bc1c7"
      },
      "execution_count": 153,
      "outputs": [
        {
          "output_type": "stream",
          "name": "stdout",
          "text": [
            "Valores nulos en df_train son: \n",
            "PassengerId      0\n",
            "Survived         0\n",
            "Pclass           0\n",
            "Name             0\n",
            "Sex              0\n",
            "Age            177\n",
            "SibSp            0\n",
            "Parch            0\n",
            "Ticket           0\n",
            "Fare             0\n",
            "Cabin          687\n",
            "Embarked         2\n",
            "dtype: int64\n",
            "\n",
            "\n",
            "Valores nulos en df_test son: \n",
            "PassengerId      0\n",
            "Pclass           0\n",
            "Name             0\n",
            "Sex              0\n",
            "Age             86\n",
            "SibSp            0\n",
            "Parch            0\n",
            "Ticket           0\n",
            "Fare             1\n",
            "Cabin          327\n",
            "Embarked         0\n",
            "dtype: int64\n"
          ]
        }
      ]
    },
    {
      "cell_type": "markdown",
      "source": [
        "Como podemos ver, ambas dataframes poseen valores nulos en un alto porcentaje, no es necesario realizar un código para darse cuenta que en Cabin en df_train con un total de 891 entradas tiene 687 nulas y lo mismo para df_test de 418 entradas 327 son nulas, esto es un problema ya que estas variables son importantes, por ello en vez de quitar estos valores es mejor imputarlos de alguna forma."
      ],
      "metadata": {
        "id": "XQomuOLIoFVC"
      }
    },
    {
      "cell_type": "markdown",
      "source": [
        "Primero que todo, vamos a ir por variable."
      ],
      "metadata": {
        "id": "r8KDR_rup-eg"
      }
    },
    {
      "cell_type": "markdown",
      "source": [
        "Age:\n",
        "\n",
        "Dado que age no presenta un alto número de nulos, he tomado la decisión de imputar estos valores con la mediana, no la media porque puede existir una gran diferencia entre edades y eso crearía un sesgo en el modelo."
      ],
      "metadata": {
        "id": "DM8QrLuSqEla"
      }
    },
    {
      "cell_type": "code",
      "source": [
        "print(df_train['Age'].max())\n",
        "print(df_train['Age'].min())"
      ],
      "metadata": {
        "colab": {
          "base_uri": "https://localhost:8080/"
        },
        "id": "8dM4UkkPo4yR",
        "outputId": "b98f706e-ba0d-44bf-a3ca-ea7c75f17500"
      },
      "execution_count": 154,
      "outputs": [
        {
          "output_type": "stream",
          "name": "stdout",
          "text": [
            "80.0\n",
            "0.42\n"
          ]
        }
      ]
    },
    {
      "cell_type": "code",
      "source": [
        "# Imputar valores nulos\n",
        "df_train['Age'].fillna(df_train['Age'].median(), inplace=True)\n",
        "df_test['Age'].fillna(df_train['Age'].median(), inplace=True)"
      ],
      "metadata": {
        "id": "_vuuHbyLq_Pq"
      },
      "execution_count": 155,
      "outputs": []
    },
    {
      "cell_type": "markdown",
      "source": [
        "Cabin:\n",
        "\n",
        "Dado que esta columna presenta una gran cantidad de valores nulos, creo que no debería imputar los valores nulos, dado que crearía un sesgo importante en el modelo, esto por que muchos valores no serían representativos de la data original y las predicciones serían poco acertadas, por ello he decidido quitar esta columna del modelo.\n",
        "\n",
        "Asimismo, vamos a quitar otras columnas que no aportar valor al modelo."
      ],
      "metadata": {
        "id": "uDydFtOPrTpi"
      }
    },
    {
      "cell_type": "code",
      "source": [
        "df_train.drop(columns=['Cabin', 'Name', 'Ticket', 'PassengerId'], inplace=True)\n",
        "df_test.drop(columns=['Cabin', 'Name', 'Ticket', 'PassengerId'], inplace=True)"
      ],
      "metadata": {
        "id": "CeQ8bKzOrS1y"
      },
      "execution_count": 156,
      "outputs": []
    },
    {
      "cell_type": "markdown",
      "source": [
        "Vamos a dar un vistazo a la data, para visualizar los cambios hasta ahora."
      ],
      "metadata": {
        "id": "PqLrvhiwuOpw"
      }
    },
    {
      "cell_type": "code",
      "source": [
        "print(df_train.info())\n",
        "print(\"\\n\")\n",
        "print(df_test.info())"
      ],
      "metadata": {
        "colab": {
          "base_uri": "https://localhost:8080/"
        },
        "id": "IY_7snnhuOCq",
        "outputId": "93d8ce40-9ba4-4d85-c15c-a6679e23d08a"
      },
      "execution_count": 157,
      "outputs": [
        {
          "output_type": "stream",
          "name": "stdout",
          "text": [
            "<class 'pandas.core.frame.DataFrame'>\n",
            "RangeIndex: 891 entries, 0 to 890\n",
            "Data columns (total 8 columns):\n",
            " #   Column    Non-Null Count  Dtype  \n",
            "---  ------    --------------  -----  \n",
            " 0   Survived  891 non-null    int64  \n",
            " 1   Pclass    891 non-null    int64  \n",
            " 2   Sex       891 non-null    object \n",
            " 3   Age       891 non-null    float64\n",
            " 4   SibSp     891 non-null    int64  \n",
            " 5   Parch     891 non-null    int64  \n",
            " 6   Fare      891 non-null    float64\n",
            " 7   Embarked  889 non-null    object \n",
            "dtypes: float64(2), int64(4), object(2)\n",
            "memory usage: 55.8+ KB\n",
            "None\n",
            "\n",
            "\n",
            "<class 'pandas.core.frame.DataFrame'>\n",
            "RangeIndex: 418 entries, 0 to 417\n",
            "Data columns (total 7 columns):\n",
            " #   Column    Non-Null Count  Dtype  \n",
            "---  ------    --------------  -----  \n",
            " 0   Pclass    418 non-null    int64  \n",
            " 1   Sex       418 non-null    object \n",
            " 2   Age       418 non-null    float64\n",
            " 3   SibSp     418 non-null    int64  \n",
            " 4   Parch     418 non-null    int64  \n",
            " 5   Fare      417 non-null    float64\n",
            " 6   Embarked  418 non-null    object \n",
            "dtypes: float64(2), int64(3), object(2)\n",
            "memory usage: 23.0+ KB\n",
            "None\n"
          ]
        }
      ]
    },
    {
      "cell_type": "markdown",
      "source": [
        "Como podemos ver, ahora en las dataframe ya no están presentes las columnas de no interés para nuestros modelos futuros."
      ],
      "metadata": {
        "id": "9Pnua_YIugSg"
      }
    },
    {
      "cell_type": "markdown",
      "source": [
        "Fare y Embarked:\n",
        "\n",
        "Dado a que Fare tiene 1 nulo y Embarked 2 nulos, la mejor decisión es imputar estos valores."
      ],
      "metadata": {
        "id": "mtsCMvIiuzNm"
      }
    },
    {
      "cell_type": "code",
      "source": [
        "# Imputar valores nulos en 'Embarked' con la moda, se utiliza [0] en caso de tener otros valores más de moda, soló elegimos el primero de ellos.\n",
        "embarked_mode_train = df_train['Embarked'].mode()[0]\n",
        "# Imputar valores nulos en 'Embarked' del conjunto de entrenamiento\n",
        "df_train['Embarked'].fillna(embarked_mode_train, inplace=True)\n",
        "\n",
        "# Calcular la moda de 'Embarked' en el conjunto de prueba\n",
        "embarked_mode_test = df_test['Embarked'].mode()[0]\n",
        "# Imputar valores nulos en 'Embarked' del conjunto de prueba\n",
        "df_test['Embarked'].fillna(embarked_mode_test, inplace=True)\n",
        "\n",
        "# Calcular la mediana de 'Fare' en el conjunto de entrenamiento\n",
        "fare_median_train = df_train['Fare'].median()\n",
        "# Imputar valores nulos en 'Fare' del conjunto de entrenamiento\n",
        "df_train['Fare'].fillna(fare_median_train, inplace=True)\n",
        "\n",
        "# Calcular la mediana de 'Fare' en el conjunto de prueba\n",
        "fare_median_test = df_test['Fare'].median()\n",
        "# Imputar valores nulos en 'Fare' del conjunto de prueba\n",
        "df_test['Fare'].fillna(fare_median_test, inplace=True)"
      ],
      "metadata": {
        "id": "HHJ7n3EgvAa8"
      },
      "execution_count": 158,
      "outputs": []
    },
    {
      "cell_type": "markdown",
      "source": [
        "Damos un vistazo a las dataframe, luego de haber realizado todos los cambios necesarios."
      ],
      "metadata": {
        "id": "p6XoHJHKzo3Z"
      }
    },
    {
      "cell_type": "code",
      "source": [
        "# Verificar valores nulos\n",
        "print(f\"Valores nulos en df_train son: \\n{df_train.isnull().sum()}\")\n",
        "print(df_train.shape)\n",
        "print(\"\\n\")\n",
        "print(f\"Valores nulos en df_test son: \\n{df_test.isnull().sum()}\")\n",
        "print(df_test.shape)"
      ],
      "metadata": {
        "colab": {
          "base_uri": "https://localhost:8080/"
        },
        "id": "N07_g5RHzn8D",
        "outputId": "fb120d0d-426b-4cb2-e3be-3f20c3cc898f"
      },
      "execution_count": 159,
      "outputs": [
        {
          "output_type": "stream",
          "name": "stdout",
          "text": [
            "Valores nulos en df_train son: \n",
            "Survived    0\n",
            "Pclass      0\n",
            "Sex         0\n",
            "Age         0\n",
            "SibSp       0\n",
            "Parch       0\n",
            "Fare        0\n",
            "Embarked    0\n",
            "dtype: int64\n",
            "(891, 8)\n",
            "\n",
            "\n",
            "Valores nulos en df_test son: \n",
            "Pclass      0\n",
            "Sex         0\n",
            "Age         0\n",
            "SibSp       0\n",
            "Parch       0\n",
            "Fare        0\n",
            "Embarked    0\n",
            "dtype: int64\n",
            "(418, 7)\n"
          ]
        }
      ]
    },
    {
      "cell_type": "markdown",
      "source": [
        "# Gráficos"
      ],
      "metadata": {
        "id": "wc6k0Lmu0H5r"
      }
    },
    {
      "cell_type": "code",
      "source": [
        "# Gráfico 1: Supervivencia por columna \"Sex\".\n",
        "sns.barplot(x=\"Sex\", y=\"Survived\", data=df_train)"
      ],
      "metadata": {
        "colab": {
          "base_uri": "https://localhost:8080/",
          "height": 0
        },
        "id": "GPQoRmmu0P6Q",
        "outputId": "ab86f4ed-100f-4f04-eb17-6bcbc92f4ff6"
      },
      "execution_count": 160,
      "outputs": [
        {
          "output_type": "execute_result",
          "data": {
            "text/plain": [
              "<Axes: xlabel='Sex', ylabel='Survived'>"
            ]
          },
          "metadata": {},
          "execution_count": 160
        },
        {
          "output_type": "display_data",
          "data": {
            "text/plain": [
              "<Figure size 640x480 with 1 Axes>"
            ],
            "image/png": "[encoded data removed]"
          },
          "metadata": {}
        }
      ]
    },
    {
      "cell_type": "code",
      "source": [
        "# Contar el total de supervivientes y el total por cada sexo\n",
        "total_por_sexo = df_train.groupby('Sex').size()\n",
        "total_supervivientes_por_sexo = df_train[df_train['Survived'] == 1].groupby('Sex').size()\n",
        "\n",
        "# Calcular el porcentaje de supervivencia por sexo\n",
        "Porcentaje_de_supervivencia_por_sex = (total_supervivientes_por_sexo / total_por_sexo) * 100\n",
        "\n",
        "# Redondear a dos decimales y mostrar los resultados\n",
        "print(Porcentaje_de_supervivencia_por_sex.round(2))"
      ],
      "metadata": {
        "colab": {
          "base_uri": "https://localhost:8080/"
        },
        "id": "K9fq6VNa3r3e",
        "outputId": "b0d91cbf-1f35-41a0-effb-bb73e2322f1f"
      },
      "execution_count": 161,
      "outputs": [
        {
          "output_type": "stream",
          "name": "stdout",
          "text": [
            "Sex\n",
            "female    74.20\n",
            "male      18.89\n",
            "dtype: float64\n"
          ]
        }
      ]
    },
    {
      "cell_type": "code",
      "source": [
        "# Gráfico 2: Distribución de clases\n",
        "sns.barplot(x=\"Pclass\", y=\"Survived\", data=df_train)"
      ],
      "metadata": {
        "colab": {
          "base_uri": "https://localhost:8080/",
          "height": 0
        },
        "id": "zuZs9KW41sJ9",
        "outputId": "dfc08987-4c1d-4389-8db2-18ae49e529af"
      },
      "execution_count": 162,
      "outputs": [
        {
          "output_type": "execute_result",
          "data": {
            "text/plain": [
              "<Axes: xlabel='Pclass', ylabel='Survived'>"
            ]
          },
          "metadata": {},
          "execution_count": 162
        },
        {
          "output_type": "display_data",
          "data": {
            "text/plain": [
              "<Figure size 640x480 with 1 Axes>"
            ],
            "image/png": "[encoded data removed]"
          },
          "metadata": {}
        }
      ]
    },
    {
      "cell_type": "code",
      "source": [
        "# Contar el total de pasajeros y supervivientes por clase\n",
        "total_por_clase = df_train.groupby('Pclass').size()\n",
        "total_supervivientes_por_clase = df_train[df_train['Survived'] == 1].groupby('Pclass').size()\n",
        "\n",
        "# Calcular el porcentaje de supervivencia por clase\n",
        "Porcentaje_de_supervivencia_por_clase = (total_supervivientes_por_clase / total_por_clase) * 100\n",
        "\n",
        "print(Porcentaje_de_supervivencia_por_clase)"
      ],
      "metadata": {
        "colab": {
          "base_uri": "https://localhost:8080/"
        },
        "id": "leW8Ax2N4yg6",
        "outputId": "aa5d8297-e84b-4193-f399-752025a2668b"
      },
      "execution_count": 163,
      "outputs": [
        {
          "output_type": "stream",
          "name": "stdout",
          "text": [
            "Pclass\n",
            "1    62.962963\n",
            "2    47.282609\n",
            "3    24.236253\n",
            "dtype: float64\n"
          ]
        }
      ]
    },
    {
      "cell_type": "code",
      "source": [
        "# Gráfico 3: Distribución de \"Sex\"\n",
        "conteo_genero = df_train[\"Sex\"].value_counts()\n",
        "plt.figure(figsize=(6, 6))\n",
        "plt.bar(conteo_genero.index, conteo_genero.values)\n",
        "plt.xlabel(\"Género\")\n",
        "plt.ylabel(\"Número de pasajeros\")\n",
        "plt.title(\"Distribución de pasajeros por género (hombre, mujer)\")\n",
        "plt.grid(True)\n",
        "plt.show()\n",
        "\n",
        "# Cantidad de Hombres y Mujeres en la dataframe.\n",
        "gender_counts = df_train['Sex'].value_counts()\n",
        "print(gender_counts)"
      ],
      "metadata": {
        "colab": {
          "base_uri": "https://localhost:8080/",
          "height": 0
        },
        "id": "jw4l9WCs2Eye",
        "outputId": "d4f74f91-b944-422b-8506-e19697e2b537"
      },
      "execution_count": 164,
      "outputs": [
        {
          "output_type": "display_data",
          "data": {
            "text/plain": [
              "<Figure size 600x600 with 1 Axes>"
            ],
            "image/png": "[encoded data removed]"
          },
          "metadata": {}
        },
        {
          "output_type": "stream",
          "name": "stdout",
          "text": [
            "Sex\n",
            "male      577\n",
            "female    314\n",
            "Name: count, dtype: int64\n"
          ]
        }
      ]
    },
    {
      "cell_type": "markdown",
      "source": [
        "Conclusiones:\n",
        "\n",
        "Podemos ver que la dataframe muestra que hubo más Hombres (577) que Hujeres (314) y que la supervivencia fue muy dispar entre ellos, Hombre un 18.89% y Mujeres 74.20%, lo cual demuestra que se dio prioridad probablemente a las mujeres para utilzar los botes salvavidas. También, vemos que las personas de primera clase (Pclass 1) tuvieron una tasa de supervivencia significativamente mayor en comparación con las de segunda y tercera clase."
      ],
      "metadata": {
        "id": "1BE4Cuok31vB"
      }
    },
    {
      "cell_type": "markdown",
      "source": [
        "# Machine Learning"
      ],
      "metadata": {
        "id": "2nDAsmIB5R0E"
      }
    },
    {
      "cell_type": "markdown",
      "source": [
        "Antes de comenzar con el modelo lo primero es dividir la data en entrenamiento y prueba, para vamos solamentea utilizar el df_train, dado que posteriormente usaremos df_test para realizar predicciones. Por otro lado, vamos divir los datos en 80/20."
      ],
      "metadata": {
        "id": "_3iW4bJo7OxY"
      }
    },
    {
      "cell_type": "code",
      "source": [
        "df_train.columns"
      ],
      "metadata": {
        "colab": {
          "base_uri": "https://localhost:8080/"
        },
        "id": "m3Vbo3Bd7hcC",
        "outputId": "21fca861-4be8-45e3-958a-e0c13af27393"
      },
      "execution_count": 165,
      "outputs": [
        {
          "output_type": "execute_result",
          "data": {
            "text/plain": [
              "Index(['Survived', 'Pclass', 'Sex', 'Age', 'SibSp', 'Parch', 'Fare',\n",
              "       'Embarked'],\n",
              "      dtype='object')"
            ]
          },
          "metadata": {},
          "execution_count": 165
        }
      ]
    },
    {
      "cell_type": "code",
      "source": [
        "# X son las variables predictoras\n",
        "# y es la variable objetivo\n",
        "\n",
        "X = df_train.drop(['Survived'], axis=1)\n",
        "y = df_train[[\"Survived\"]]\n",
        "X_train, X_test, y_train, y_test = train_test_split(X, y, test_size = 0.20, random_state = 42)"
      ],
      "metadata": {
        "id": "AVTAUAeS5Y0K"
      },
      "execution_count": 166,
      "outputs": []
    },
    {
      "cell_type": "code",
      "source": [
        "print(X.columns)\n",
        "print(y.columns)"
      ],
      "metadata": {
        "colab": {
          "base_uri": "https://localhost:8080/"
        },
        "id": "tLN0Hy3Q9ZUE",
        "outputId": "0d9c0b7a-2f72-453a-cbf3-a6792c628a5e"
      },
      "execution_count": 167,
      "outputs": [
        {
          "output_type": "stream",
          "name": "stdout",
          "text": [
            "Index(['Pclass', 'Sex', 'Age', 'SibSp', 'Parch', 'Fare', 'Embarked'], dtype='object')\n",
            "Index(['Survived'], dtype='object')\n"
          ]
        }
      ]
    },
    {
      "cell_type": "markdown",
      "source": [
        "Vamos a verificar que variables son categóricas y númericas, dado que necesitamos realizar un escalado de la data númerica y un encoding de las categóricas."
      ],
      "metadata": {
        "id": "AtVFCtHM-a9L"
      }
    },
    {
      "cell_type": "code",
      "source": [
        "# Verificar por variables categóricas, lo mismo aplica para df_test.\n",
        "\n",
        "categoricas = []\n",
        "\n",
        "for var in X:\n",
        "    if X[var].dtype == 'O':\n",
        "        categoricas.append(var)\n",
        "\n",
        "print(f'Hay {len(categoricas)} variables categóricas en x')\n",
        "print(f'Estas son: {categoricas}')"
      ],
      "metadata": {
        "colab": {
          "base_uri": "https://localhost:8080/"
        },
        "id": "yRK_nXPl-fdr",
        "outputId": "7ecb994d-eaba-4170-9c3b-345bc87d8275"
      },
      "execution_count": 168,
      "outputs": [
        {
          "output_type": "stream",
          "name": "stdout",
          "text": [
            "Hay 2 variables categóricas en x\n",
            "Estas son: ['Sex', 'Embarked']\n"
          ]
        }
      ]
    },
    {
      "cell_type": "code",
      "source": [
        "# Verificar por variables numéricas, lo mismo aplica para df_test.\n",
        "\n",
        "numericas = []\n",
        "\n",
        "for var in X:\n",
        "    if X[var].dtype != 'O':\n",
        "        numericas.append(var)\n",
        "\n",
        "print(f'Hay {len(numericas)} variables numéricas en X')\n",
        "print(f'Estas son: {numericas}')"
      ],
      "metadata": {
        "colab": {
          "base_uri": "https://localhost:8080/"
        },
        "id": "i6X72Ot--hFh",
        "outputId": "8266dd6c-d524-4a2f-9970-01c168cfd8b5"
      },
      "execution_count": 169,
      "outputs": [
        {
          "output_type": "stream",
          "name": "stdout",
          "text": [
            "Hay 5 variables numéricas en X\n",
            "Estas son: ['Pclass', 'Age', 'SibSp', 'Parch', 'Fare']\n"
          ]
        }
      ]
    },
    {
      "cell_type": "markdown",
      "source": [
        "Encoding categóricas"
      ],
      "metadata": {
        "id": "7PiXNYj8-7OH"
      }
    },
    {
      "cell_type": "code",
      "source": [
        "# Convertir variables categóricas en variables dummy\n",
        "X_train = pd.get_dummies(X_train, columns=['Sex', 'Embarked'], drop_first=True)\n",
        "X_test = pd.get_dummies(X_test, columns=['Sex', 'Embarked'], drop_first=True)"
      ],
      "metadata": {
        "id": "UT3Py5iT-9HQ"
      },
      "execution_count": 170,
      "outputs": []
    },
    {
      "cell_type": "markdown",
      "source": [
        "Escalado de variables númericas"
      ],
      "metadata": {
        "id": "lHbApPBc_5EF"
      }
    },
    {
      "cell_type": "code",
      "source": [
        "# Separar variables numéricas\n",
        "num_vars = ['Pclass', 'Age', 'SibSp', 'Parch', 'Fare']\n",
        "\n",
        "# Inicializar el escalador\n",
        "scaler = StandardScaler()\n",
        "\n",
        "# Ajustar y transformar los datos de entrenamiento\n",
        "X_train[num_vars] = scaler.fit_transform(X_train[num_vars])\n",
        "\n",
        "# Transformar los datos de prueba usando el mismo escalador\n",
        "X_test[num_vars] = scaler.transform(X_test[num_vars])"
      ],
      "metadata": {
        "id": "MqYgs89C_PvV"
      },
      "execution_count": 171,
      "outputs": []
    },
    {
      "cell_type": "code",
      "source": [
        "print(X_train.columns)"
      ],
      "metadata": {
        "colab": {
          "base_uri": "https://localhost:8080/"
        },
        "id": "y7VOE0grB2ND",
        "outputId": "1a553442-6f4e-4e15-fa95-9f40c3e45aeb"
      },
      "execution_count": 172,
      "outputs": [
        {
          "output_type": "stream",
          "name": "stdout",
          "text": [
            "Index(['Pclass', 'Age', 'SibSp', 'Parch', 'Fare', 'Sex_male', 'Embarked_Q',\n",
            "       'Embarked_S'],\n",
            "      dtype='object')\n"
          ]
        }
      ]
    },
    {
      "cell_type": "code",
      "source": [
        "df_test.columns"
      ],
      "metadata": {
        "colab": {
          "base_uri": "https://localhost:8080/"
        },
        "id": "d9mQs4hEBZP4",
        "outputId": "0837903b-213b-4861-f916-64170cac6db0"
      },
      "execution_count": 173,
      "outputs": [
        {
          "output_type": "execute_result",
          "data": {
            "text/plain": [
              "Index(['Pclass', 'Sex', 'Age', 'SibSp', 'Parch', 'Fare', 'Embarked'], dtype='object')"
            ]
          },
          "metadata": {},
          "execution_count": 173
        }
      ]
    },
    {
      "cell_type": "markdown",
      "source": [
        "Modelo Naive Bayes"
      ],
      "metadata": {
        "id": "8dWlds-8DnD7"
      }
    },
    {
      "cell_type": "code",
      "source": [
        "# Inicializar el modelo Naïve Bayes\n",
        "model_nb = GaussianNB()\n",
        "\n",
        "# Entrenar el modelo\n",
        "model_nb.fit(X_train, y_train.values.ravel())\n",
        "\n",
        "# Realizar predicciones en el conjunto de prueba\n",
        "y_pred_nb = model_nb.predict(X_test)\n",
        "\n",
        "# Evaluar el rendimiento\n",
        "print(\"Naïve Bayes - Accuracy:\", accuracy_score(y_test, y_pred_nb))\n",
        "print(\"Naïve Bayes - Classification Report:\\n\", classification_report(y_test, y_pred_nb))"
      ],
      "metadata": {
        "colab": {
          "base_uri": "https://localhost:8080/"
        },
        "id": "umarfVY0Dmhn",
        "outputId": "acc5901c-c222-4d39-db29-50ae29a3af0d"
      },
      "execution_count": 174,
      "outputs": [
        {
          "output_type": "stream",
          "name": "stdout",
          "text": [
            "Naïve Bayes - Accuracy: 0.770949720670391\n",
            "Naïve Bayes - Classification Report:\n",
            "               precision    recall  f1-score   support\n",
            "\n",
            "           0       0.81      0.80      0.80       105\n",
            "           1       0.72      0.73      0.72        74\n",
            "\n",
            "    accuracy                           0.77       179\n",
            "   macro avg       0.76      0.76      0.76       179\n",
            "weighted avg       0.77      0.77      0.77       179\n",
            "\n"
          ]
        }
      ]
    },
    {
      "cell_type": "markdown",
      "source": [
        "Regresión logística"
      ],
      "metadata": {
        "id": "-ZHk3WJGIH6b"
      }
    },
    {
      "cell_type": "code",
      "source": [
        "# Inicializar el modelo de Regresión Logística\n",
        "model_lr = LogisticRegression(max_iter=1000)  # Puedes ajustar el número de iteraciones si es necesario\n",
        "\n",
        "# Entrenar el modelo\n",
        "model_lr.fit(X_train, y_train.values.ravel())\n",
        "\n",
        "# Realizar predicciones en el conjunto de prueba\n",
        "y_pred_lr = model_lr.predict(X_test)\n",
        "\n",
        "# Evaluar el rendimiento\n",
        "print(\"Regresión Logística - Accuracy:\", accuracy_score(y_test, y_pred_lr))\n",
        "print(\"Regresión Logística - Classification Report:\\n\", classification_report(y_test, y_pred_lr))"
      ],
      "metadata": {
        "colab": {
          "base_uri": "https://localhost:8080/"
        },
        "id": "W3xGhvG_IGmr",
        "outputId": "212f3d7a-dee1-453b-e948-1c2bf78cb60c"
      },
      "execution_count": 187,
      "outputs": [
        {
          "output_type": "stream",
          "name": "stdout",
          "text": [
            "Regresión Logística - Accuracy: 0.8100558659217877\n",
            "Regresión Logística - Classification Report:\n",
            "               precision    recall  f1-score   support\n",
            "\n",
            "           0       0.83      0.86      0.84       105\n",
            "           1       0.79      0.74      0.76        74\n",
            "\n",
            "    accuracy                           0.81       179\n",
            "   macro avg       0.81      0.80      0.80       179\n",
            "weighted avg       0.81      0.81      0.81       179\n",
            "\n"
          ]
        }
      ]
    },
    {
      "cell_type": "markdown",
      "source": [
        "Conclusiones:\n",
        "\n",
        "En base en los resultados, la regresión logística tiene un rendimiento mejor en comparación con el modelo de Naïve Bayes.\n",
        "\n",
        "Dado que:\n",
        "\n",
        "Accuracy: La regresión logística tiene una precisión de 0.81, mientras que Naïve Bayes tiene una precisión de 0.77. Esto significa que la regresión logística clasifica correctamente más instancias en el conjunto de prueba.\n",
        "\n",
        "Precision y Recall: La regresión logística también tiene una mayor precisión y recall para la clase 0 (no sobrevivientes) y una precisión y recall relativamente comparable para la clase 1 (sobrevivientes) en comparación con Naïve Bayes.\n",
        "\n",
        "Esto sugiere que la regresión logística puede estar capturando mejor las relaciones entre las variables en tu conjunto de datos."
      ],
      "metadata": {
        "id": "3hv8jFODL2zN"
      }
    },
    {
      "cell_type": "markdown",
      "source": [
        "# Testeo con data de prueba"
      ],
      "metadata": {
        "id": "nqa4y9cy5ZNM"
      }
    },
    {
      "cell_type": "markdown",
      "source": [
        "Vamos a utilizar la data df_test para realizar predicciones como si fuera nueva data, solamente utilizando 1 de los 2 modelos creados, ya que es el mismo procedimiento."
      ],
      "metadata": {
        "id": "kP8CsIE2IBIj"
      }
    },
    {
      "cell_type": "code",
      "source": [
        "df_test.columns"
      ],
      "metadata": {
        "colab": {
          "base_uri": "https://localhost:8080/"
        },
        "id": "4R4JdBL45drs",
        "outputId": "86d2cd97-c7d6-4fbb-c646-ab84f43044ad"
      },
      "execution_count": 176,
      "outputs": [
        {
          "output_type": "execute_result",
          "data": {
            "text/plain": [
              "Index(['Pclass', 'Sex', 'Age', 'SibSp', 'Parch', 'Fare', 'Embarked'], dtype='object')"
            ]
          },
          "metadata": {},
          "execution_count": 176
        }
      ]
    },
    {
      "cell_type": "markdown",
      "source": [
        "Encoding categóricas"
      ],
      "metadata": {
        "id": "d7-wqvi4IXwV"
      }
    },
    {
      "cell_type": "code",
      "source": [
        "# Codificar variables categóricas en df_test usando las mismas columnas que en X_train\n",
        "df_test_encoded = pd.get_dummies(df_test, columns=['Sex', 'Embarked'], drop_first=True)\n",
        "\n",
        "# Alinear columnas de df_test con las de X_train\n",
        "df_test_encoded = df_test_encoded.reindex(columns=X_train.columns, fill_value=0)\n"
      ],
      "metadata": {
        "id": "UaX1mb2zIPdD"
      },
      "execution_count": 177,
      "outputs": []
    },
    {
      "cell_type": "markdown",
      "source": [
        "Escalado de variables númericas"
      ],
      "metadata": {
        "id": "AG_Rse0rIflE"
      }
    },
    {
      "cell_type": "code",
      "source": [
        "# Separar variables numéricas\n",
        "num_vars = ['Pclass', 'Age', 'SibSp', 'Parch', 'Fare']\n",
        "\n",
        "# Escalar los datos de df_test usando el mismo escalador que se usó para X_train\n",
        "df_test_encoded[num_vars] = scaler.transform(df_test_encoded[num_vars])\n"
      ],
      "metadata": {
        "id": "VyMVHfbjIWSN"
      },
      "execution_count": 178,
      "outputs": []
    },
    {
      "cell_type": "code",
      "source": [
        "# Realizar predicciones en df_test_encoded\n",
        "y_pred_test = model_nb.predict(df_test_encoded)\n",
        "\n",
        "# Realizar predicciones\n",
        "y_pred_test = model_nb.predict(df_test_encoded)\n",
        "\n",
        "# Mostrar las predicciones\n",
        "print(y_pred_test)"
      ],
      "metadata": {
        "colab": {
          "base_uri": "https://localhost:8080/"
        },
        "id": "53O5iYLEIn3z",
        "outputId": "4f303b0b-73b1-479b-cf76-d09e96fc71d4"
      },
      "execution_count": 182,
      "outputs": [
        {
          "output_type": "stream",
          "name": "stdout",
          "text": [
            "[0 1 0 0 1 0 1 0 1 0 0 0 1 0 1 1 0 0 1 1 1 0 1 1 1 0 1 0 0 0 0 0 1 1 1 0 1\n",
            " 1 0 0 0 0 0 1 1 0 0 0 1 1 0 0 1 1 0 0 0 0 0 1 0 0 0 1 1 1 1 0 0 1 1 0 1 0\n",
            " 1 1 0 1 0 1 0 1 0 0 0 0 1 1 1 0 1 0 1 0 0 0 1 0 1 0 1 0 0 0 1 0 0 0 0 0 0\n",
            " 1 1 1 1 0 0 1 1 1 1 0 1 0 0 1 0 0 0 0 0 1 0 0 0 0 0 0 1 0 0 1 1 0 0 0 0 0\n",
            " 0 0 1 0 0 1 0 0 1 1 0 1 1 0 1 0 0 1 1 0 1 1 0 0 0 0 0 1 1 1 1 1 0 1 1 0 1\n",
            " 0 1 0 0 0 0 0 0 0 0 0 1 1 0 1 1 0 1 1 0 0 1 0 1 0 0 0 0 1 0 0 1 1 1 0 1 0\n",
            " 1 0 1 1 0 1 0 0 0 1 0 0 1 0 1 0 1 1 1 1 1 0 0 0 1 0 1 1 1 0 1 0 0 0 0 0 1\n",
            " 0 0 0 1 1 0 0 0 0 1 0 1 0 1 1 0 1 0 0 0 0 1 0 1 1 1 0 0 1 0 0 0 1 0 1 0 0\n",
            " 1 0 0 0 0 0 0 0 1 1 1 0 1 1 0 0 0 1 1 1 1 0 0 0 0 0 0 0 1 0 1 1 0 0 1 0 0\n",
            " 1 0 0 0 0 0 0 0 0 0 1 0 1 0 1 0 1 1 0 0 0 1 0 1 0 0 1 0 1 1 0 1 0 0 1 1 0\n",
            " 0 1 0 0 1 1 0 0 0 0 0 0 1 1 0 1 0 0 0 0 1 1 0 0 0 1 0 1 0 0 1 0 1 0 0 0 0\n",
            " 1 1 1 1 1 1 0 1 0 0 0]\n"
          ]
        }
      ]
    },
    {
      "cell_type": "code",
      "source": [
        "# Contar las predicciones\n",
        "y_pred_df = pd.DataFrame(y_pred_test, columns=['Predicted_Survived'])\n",
        "pred_counts = y_pred_df['Predicted_Survived'].value_counts()\n",
        "\n",
        "print(\"Contador de predicciones:\")\n",
        "print(pred_counts)\n"
      ],
      "metadata": {
        "colab": {
          "base_uri": "https://localhost:8080/"
        },
        "id": "w3gA_ScoKnw7",
        "outputId": "adc1bd29-a79b-455f-91ce-061f7dc0f4a3"
      },
      "execution_count": 183,
      "outputs": [
        {
          "output_type": "stream",
          "name": "stdout",
          "text": [
            "Contador de predicciones:\n",
            "Predicted_Survived\n",
            "0    245\n",
            "1    173\n",
            "Name: count, dtype: int64\n"
          ]
        }
      ]
    },
    {
      "cell_type": "code",
      "source": [
        "plt.hist(y_pred_test, bins=2, edgecolor='black', alpha=0.7)\n",
        "plt.xticks([0, 1], ['No sobrevivió', 'Sobrevivió'])\n",
        "plt.xlabel('Predicción de Sobrevivencia')\n",
        "plt.ylabel('Frecuencia')\n",
        "plt.title('Distribución de Predicciones de Sobrevivencia')\n",
        "plt.show()"
      ],
      "metadata": {
        "colab": {
          "base_uri": "https://localhost:8080/",
          "height": 472
        },
        "id": "yQeI-aojLHgM",
        "outputId": "89812611-2a96-4b40-c80a-d827ce7dc478"
      },
      "execution_count": 184,
      "outputs": [
        {
          "output_type": "display_data",
          "data": {
            "text/plain": [
              "<Figure size 640x480 with 1 Axes>"
            ],
            "image/png": "[encoded data removed]"
          },
          "metadata": {}
        }
      ]
    },
    {
      "cell_type": "markdown",
      "source": [
        "Esto significa que, de las 418 predicciones que el modelo ha hecho en df_test_encoded, la mayoría de los pasajeros han sido clasificados como no sobrevivientes (245 veces) y una cantidad menor como sobrevivientes (173 veces).\n",
        "\n",
        "Dado que que df_test no contiene las etiquetas no se puede calcular la accuracy, pero si pudimos obtener las predicciones."
      ],
      "metadata": {
        "id": "VTExOJOaKETs"
      }
    }
  ]
}